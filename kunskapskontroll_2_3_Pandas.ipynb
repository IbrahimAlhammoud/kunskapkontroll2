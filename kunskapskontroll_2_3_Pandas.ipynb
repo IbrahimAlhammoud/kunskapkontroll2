{
 "cells": [
  {
   "cell_type": "markdown",
   "id": "b540290b",
   "metadata": {},
   "source": [
    "# Pandas\n",
    "Read \"10 minutes to Pandas\": https://pandas.pydata.org/docs/user_guide/10min.html before solving the exercises.\n",
    "We will use the data set \"cars_data\" in the exercises below. "
   ]
  },
  {
   "cell_type": "code",
   "execution_count": null,
   "id": "fa266ee4",
   "metadata": {},
   "outputs": [],
   "source": [
    "# Importing Pandas. \n",
    "import numpy as np\n",
    "import pandas as pd\n",
    "import matplotlib.pyplot as plt"
   ]
  },
  {
   "cell_type": "markdown",
   "id": "addb587b",
   "metadata": {},
   "source": [
    "### Explain what a CSV file is."
   ]
  },
  {
   "cell_type": "raw",
   "id": "05384dd0-76d9-4a88-9d1d-e88b1dd037d1",
   "metadata": {},
   "source": [
    "Text-based file format used to store and exchange tabular data. "
   ]
  },
  {
   "cell_type": "markdown",
   "id": "5c61e5d9",
   "metadata": {},
   "source": [
    "### Load the data set \"cars_data\" through Pandas. "
   ]
  },
  {
   "cell_type": "code",
   "execution_count": null,
   "id": "91923010",
   "metadata": {},
   "outputs": [],
   "source": [
    "# When reading in the data, either you have the data file in the same folder as your python script\n",
    "# or in a seperate folder.\n",
    "\n",
    "# Code below can be ran if you have the data file in the same folder as the script\n",
    "# cars = pd.read_csv(\"cars_data.csv\")\n",
    "\n",
    "# Code below can be ran if you have the data file in another script. \n",
    "# Notice, you must change the path according to where you have the data in your computer. \n",
    "# pd.read_csv(r'C:\\Users\\Antonio Prgomet\\Documents\\03_nbi_yh\\korta_yh_kurser\\python_för_ai\\kunskapskontroll_1\\cars_data.csv')"
   ]
  },
  {
   "cell_type": "markdown",
   "id": "b9ac1d06",
   "metadata": {},
   "source": [
    "### Print the first 10 rows of the data. "
   ]
  },
  {
   "cell_type": "code",
   "execution_count": null,
   "id": "2886ff8e",
   "metadata": {},
   "outputs": [],
   "source": [
    "cars_original = pd.read_csv(\"cars_data.csv\")\n",
    "cars_original.head(10)"
   ]
  },
  {
   "cell_type": "markdown",
   "id": "ec02774b",
   "metadata": {},
   "source": [
    "### Print the last 5 rows. "
   ]
  },
  {
   "cell_type": "code",
   "execution_count": null,
   "id": "437d158f",
   "metadata": {},
   "outputs": [],
   "source": [
    "cars_original.tail()"
   ]
  },
  {
   "cell_type": "markdown",
   "id": "e0cd9329",
   "metadata": {},
   "source": [
    "### By using the info method, check how many non-null rows each column have. "
   ]
  },
  {
   "cell_type": "code",
   "execution_count": null,
   "id": "efe71f5f",
   "metadata": {},
   "outputs": [],
   "source": [
    "cars_original.info()"
   ]
  },
  {
   "cell_type": "markdown",
   "id": "887f8c9c",
   "metadata": {},
   "source": [
    "### If any column has a missing value, drop the entire row. Notice, the operation should be inplace meaning you change the dataframe itself."
   ]
  },
  {
   "cell_type": "code",
   "execution_count": null,
   "id": "60b660dc",
   "metadata": {},
   "outputs": [],
   "source": [
    "cars_original[cars_original.isnull().any(axis=1)]\n",
    "cars = cars_original.dropna()\n",
    "cars.info()"
   ]
  },
  {
   "cell_type": "markdown",
   "id": "614eeffe",
   "metadata": {},
   "source": [
    "### Calculate the mean of each numeric column. "
   ]
  },
  {
   "cell_type": "code",
   "execution_count": null,
   "id": "49e06c7c",
   "metadata": {},
   "outputs": [],
   "source": [
    "cars.mean(numeric_only = True)"
   ]
  },
  {
   "cell_type": "markdown",
   "id": "f4f79bfd",
   "metadata": {},
   "source": [
    "### Select the rows where the column \"company\" is equal to 'honda'. "
   ]
  },
  {
   "cell_type": "code",
   "execution_count": null,
   "id": "1e373079",
   "metadata": {},
   "outputs": [],
   "source": [
    "\n",
    "cars[cars.company == 'volvo']"
   ]
  },
  {
   "cell_type": "markdown",
   "id": "0a3543eb",
   "metadata": {},
   "source": [
    "### Sort the data set by price in descending order. This should *not* be an inplace operation. "
   ]
  },
  {
   "cell_type": "code",
   "execution_count": null,
   "id": "8455abaa",
   "metadata": {},
   "outputs": [],
   "source": [
    "cars.sort_values(by=['price'], ascending=False)"
   ]
  },
  {
   "cell_type": "markdown",
   "id": "1527f255",
   "metadata": {},
   "source": [
    "### Select the rows where the column \"company\" is equal to any of the values (audi, bmw, porsche)."
   ]
  },
  {
   "cell_type": "code",
   "execution_count": null,
   "id": "60e300ae",
   "metadata": {},
   "outputs": [],
   "source": [
    "companies = ['audi', 'bmw', 'porsche']\n",
    "\n",
    "# Select rows where the 'company' column is in the list of companies\n",
    "filtered_rows = cars[cars.company.isin(companies)]\n",
    "print(filtered_rows)"
   ]
  },
  {
   "cell_type": "markdown",
   "id": "3ce133eb",
   "metadata": {},
   "source": [
    "### Find the number of cars (rows) for each company. "
   ]
  },
  {
   "cell_type": "code",
   "execution_count": null,
   "id": "7e6a9d43",
   "metadata": {},
   "outputs": [],
   "source": [
    "cars.groupby('company').size()"
   ]
  },
  {
   "cell_type": "markdown",
   "id": "5beef62f",
   "metadata": {},
   "source": [
    "### Find the maximum price for each company. "
   ]
  },
  {
   "cell_type": "code",
   "execution_count": null,
   "id": "d91dc8be",
   "metadata": {},
   "outputs": [],
   "source": [
    "cars.groupby('company')['price'].max()"
   ]
  },
  {
   "cell_type": "code",
   "execution_count": null,
   "id": "d1d6341f-1c4e-41ad-b45f-3bf0c1626684",
   "metadata": {},
   "outputs": [],
   "source": [
    "plt.bar(cars.index,cars.price)\n",
    "plt.show()"
   ]
  },
  {
   "cell_type": "code",
   "execution_count": null,
   "id": "159161b9-f2fe-4af0-9446-c2e49b9866d4",
   "metadata": {},
   "outputs": [],
   "source": []
  }
 ],
 "metadata": {
  "kernelspec": {
   "display_name": "Python 3 (ipykernel)",
   "language": "python",
   "name": "python3"
  },
  "language_info": {
   "codemirror_mode": {
    "name": "ipython",
    "version": 3
   },
   "file_extension": ".py",
   "mimetype": "text/x-python",
   "name": "python",
   "nbconvert_exporter": "python",
   "pygments_lexer": "ipython3",
   "version": "3.12.7"
  }
 },
 "nbformat": 4,
 "nbformat_minor": 5
}
