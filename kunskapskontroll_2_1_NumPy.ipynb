{
 "cells": [
  {
   "cell_type": "markdown",
   "id": "dacf74e6",
   "metadata": {},
   "source": [
    "# NumPy"
   ]
  },
  {
   "cell_type": "markdown",
   "id": "01b2bf34",
   "metadata": {},
   "source": [
    "Read the links: https://numpy.org/doc/stable/user/quickstart.html  and https://numpy.org/doc/stable/user/basics.broadcasting.html  before solving the exercises. "
   ]
  },
  {
   "cell_type": "code",
   "execution_count": 1,
   "id": "1f79e4a6",
   "metadata": {},
   "outputs": [],
   "source": [
    "import numpy as np"
   ]
  },
  {
   "cell_type": "markdown",
   "id": "7dae6889",
   "metadata": {},
   "source": [
    "### Print out the dimension (number of axes), shape, size and the datatype of the matrix A."
   ]
  },
  {
   "cell_type": "code",
   "execution_count": 3,
   "id": "7b3678cd",
   "metadata": {},
   "outputs": [],
   "source": [
    "A = np.arange(1, 16).reshape(3,5)"
   ]
  },
  {
   "cell_type": "code",
   "execution_count": 47,
   "id": "31d39235",
   "metadata": {},
   "outputs": [
    {
     "name": "stdout",
     "output_type": "stream",
     "text": [
      "2\n",
      "(3, 5)\n",
      "15\n",
      "int64\n"
     ]
    }
   ],
   "source": [
    "print(A.ndim)\n",
    "print(A.shape)\n",
    "print(A.size)\n",
    "print(A.dtype)"
   ]
  },
  {
   "cell_type": "markdown",
   "id": "e56d2a96",
   "metadata": {},
   "source": [
    "### Do the following computations on the matrices B and C: \n",
    "* Elementwise subtraction. \n",
    "* Elementwise multiplication. \n",
    "* Matrix multiplication (by default you should use the @ operator)."
   ]
  },
  {
   "cell_type": "code",
   "execution_count": 49,
   "id": "a7053fbb",
   "metadata": {},
   "outputs": [
    {
     "name": "stdout",
     "output_type": "stream",
     "text": [
      "[[1 2 3]\n",
      " [4 5 6]\n",
      " [7 8 9]]\n",
      "\n",
      "[[2. 2. 2.]\n",
      " [2. 2. 2.]\n",
      " [2. 2. 2.]]\n"
     ]
    }
   ],
   "source": [
    "B = np.arange(1, 10).reshape(3, 3)\n",
    "C = np.ones((3, 3))*2\n",
    "\n",
    "print(B)\n",
    "print()\n",
    "print(C)"
   ]
  },
  {
   "cell_type": "code",
   "execution_count": 59,
   "id": "3cd794ae",
   "metadata": {},
   "outputs": [
    {
     "name": "stdout",
     "output_type": "stream",
     "text": [
      "[[-1.  0.  1.]\n",
      " [ 2.  3.  4.]\n",
      " [ 5.  6.  7.]]\n",
      "\n",
      "[[ 2.  4.  6.]\n",
      " [ 8. 10. 12.]\n",
      " [14. 16. 18.]]\n",
      "\n",
      "[[12. 12. 12.]\n",
      " [30. 30. 30.]\n",
      " [48. 48. 48.]]\n"
     ]
    }
   ],
   "source": [
    "print(B - C)\n",
    "print()\n",
    "print(B * C)\n",
    "print()\n",
    "print(B @ C)"
   ]
  },
  {
   "cell_type": "markdown",
   "id": "96030d53",
   "metadata": {},
   "source": [
    "### Do the following calculations on the matrix:\n",
    "* Exponentiate each number elementwise (use the np.exp function).\n",
    "\n",
    "* Calculate the minimum value in the whole matrix. \n",
    "* Calculcate the minimum value in each row. \n",
    "* Calculcate the minimum value in each column. \n",
    "\n",
    "\n",
    "* Find the index value for the minimum value in the whole matrix (hint: use np.argmin).\n",
    "* Find the index value for the minimum value in each row (hint: use np.argmin).\n",
    "\n",
    "\n",
    "* Calculate the sum for all elements.\n",
    "* Calculate the mean for each column. \n",
    "* Calculate the median for each column. "
   ]
  },
  {
   "cell_type": "code",
   "execution_count": 61,
   "id": "f8a9166b",
   "metadata": {},
   "outputs": [
    {
     "name": "stdout",
     "output_type": "stream",
     "text": [
      "[[1 2 3]\n",
      " [4 5 6]\n",
      " [7 8 9]]\n"
     ]
    }
   ],
   "source": [
    "B = np.arange(1, 10).reshape(3, 3)\n",
    "print(B)"
   ]
  },
  {
   "cell_type": "code",
   "execution_count": 165,
   "id": "f03f24f7",
   "metadata": {},
   "outputs": [
    {
     "name": "stdout",
     "output_type": "stream",
     "text": [
      "[[2.71828183e+00 7.38905610e+00 2.00855369e+01]\n",
      " [5.45981500e+01 1.48413159e+02 4.03428793e+02]\n",
      " [1.09663316e+03 2.98095799e+03 8.10308393e+03]]\n",
      "\n",
      "1\n",
      "\n",
      "[1 4 7]\n",
      "\n",
      "[1 2 3]\n",
      "\n",
      "0\n",
      "\n",
      "[0 0 0]\n",
      "\n",
      "45\n",
      "\n",
      "[4. 5. 6.]\n",
      "\n",
      "[4. 5. 6.]\n"
     ]
    }
   ],
   "source": [
    "print(np.exp(B))\n",
    "print()\n",
    "print(np.min(B))\n",
    "print()\n",
    "print(np.min(B,axis=1))\n",
    "print()\n",
    "print(np.min(B,axis=0))\n",
    "print()\n",
    "print(np.argmin(B))\n",
    "print()\n",
    "print(np.argmin(B,axis=1))\n",
    "print()\n",
    "print(np.sum(B))\n",
    "print()\n",
    "print(np.mean(B, axis=0))\n",
    "print()\n",
    "print(np.median(B, axis=0))"
   ]
  },
  {
   "cell_type": "markdown",
   "id": "541eb7ba",
   "metadata": {},
   "source": [
    "### What does it mean when you provide fewer indices than axes when slicing? See example below."
   ]
  },
  {
   "cell_type": "code",
   "execution_count": 172,
   "id": "9c8abf56",
   "metadata": {},
   "outputs": [
    {
     "name": "stdout",
     "output_type": "stream",
     "text": [
      "[[ 1  2  3  4  5]\n",
      " [ 6  7  8  9 10]\n",
      " [11 12 13 14 15]]\n"
     ]
    }
   ],
   "source": [
    "print(A)"
   ]
  },
  {
   "cell_type": "code",
   "execution_count": 174,
   "id": "69415f7b",
   "metadata": {},
   "outputs": [
    {
     "data": {
      "text/plain": [
       "array([ 6,  7,  8,  9, 10])"
      ]
     },
     "execution_count": 174,
     "metadata": {},
     "output_type": "execute_result"
    }
   ],
   "source": [
    "A[1]"
   ]
  },
  {
   "cell_type": "markdown",
   "id": "6c53541b",
   "metadata": {},
   "source": [
    "**Answer:**\n"
   ]
  },
  {
   "cell_type": "raw",
   "id": "4a657e40-3a21-442a-abee-035528db23ee",
   "metadata": {},
   "source": [
    " 'A' has a shape (3,5) which mean ir has 3 rows and 5 columns, \n",
    " when we assume A[1] thats mean we are going to print all elements in the second row, \n",
    " because in python we start the incidence with 0 which mean A[0] is the first row.\n",
    "\n"
   ]
  },
  {
   "cell_type": "markdown",
   "id": "6652d0c9",
   "metadata": {},
   "source": [
    "### Iterating over multidimensional arrays is done with respect to the first axis, so in the example below we iterate trough the rows. If you would like to iterate through the array *elementwise*, how would you do that?"
   ]
  },
  {
   "cell_type": "code",
   "execution_count": 183,
   "id": "9459864f",
   "metadata": {},
   "outputs": [
    {
     "data": {
      "text/plain": [
       "array([[ 1,  2,  3,  4,  5],\n",
       "       [ 6,  7,  8,  9, 10],\n",
       "       [11, 12, 13, 14, 15]])"
      ]
     },
     "execution_count": 183,
     "metadata": {},
     "output_type": "execute_result"
    }
   ],
   "source": [
    "A"
   ]
  },
  {
   "cell_type": "code",
   "execution_count": 185,
   "id": "a671bb5a",
   "metadata": {},
   "outputs": [
    {
     "name": "stdout",
     "output_type": "stream",
     "text": [
      "[1 2 3 4 5]\n",
      "[ 6  7  8  9 10]\n",
      "[11 12 13 14 15]\n"
     ]
    }
   ],
   "source": [
    "for i in A:\n",
    "    print(i)"
   ]
  },
  {
   "cell_type": "code",
   "execution_count": 187,
   "id": "f4e443a0",
   "metadata": {},
   "outputs": [
    {
     "name": "stdout",
     "output_type": "stream",
     "text": [
      "1\n",
      "2\n",
      "3\n",
      "4\n",
      "5\n",
      "6\n",
      "7\n",
      "8\n",
      "9\n",
      "10\n",
      "11\n",
      "12\n",
      "13\n",
      "14\n",
      "15\n"
     ]
    }
   ],
   "source": [
    "for i in A.flat:\n",
    "    print(i)"
   ]
  },
  {
   "cell_type": "markdown",
   "id": "608a2583",
   "metadata": {},
   "source": [
    "### Explain what the code below does. More specifically, b has three axes - what does this mean? "
   ]
  },
  {
   "cell_type": "code",
   "execution_count": 189,
   "id": "f8f9b26f",
   "metadata": {},
   "outputs": [
    {
     "name": "stdout",
     "output_type": "stream",
     "text": [
      "[ 0  1  2  3  4  5  6  7  8  9 10 11 12 13 14 15 16 17 18 19 20 21 22 23\n",
      " 24 25 26 27 28 29]\n",
      "\n",
      "[[[ 0  1  2  3  4]\n",
      "  [ 5  6  7  8  9]\n",
      "  [10 11 12 13 14]]\n",
      "\n",
      " [[15 16 17 18 19]\n",
      "  [20 21 22 23 24]\n",
      "  [25 26 27 28 29]]]\n"
     ]
    }
   ],
   "source": [
    "a = np.arange(30)\n",
    "b = a.reshape((2, 3, -1))\n",
    "print(a)\n",
    "print()\n",
    "\n",
    "print(b)"
   ]
  },
  {
   "cell_type": "raw",
   "id": "b1547158-0648-4726-ad60-2c059ada3225",
   "metadata": {},
   "source": [
    " that's mean that b is a 3d array , 2 blocks and each blok has 3 rows and 5 columns\n",
    " -1 means that python calculate columns nb auto by this calculation: nb_elemnts/size of first two axes =>\n",
    " 30/(2+3) = 30/6 = 5"
   ]
  },
  {
   "cell_type": "code",
   "execution_count": null,
   "id": "eed38bbb-dd20-4d23-837f-679aa3d3a067",
   "metadata": {},
   "outputs": [],
   "source": []
  },
  {
   "cell_type": "markdown",
   "id": "421c9607-819a-401d-949a-97424436fe29",
   "metadata": {},
   "source": [
    "# For the exercises below, read the document *\"matematik_yh_antonio_vektorer_matriser_utdrag\"*\n",
    "# Solutions to the exercises and recorded videos can be found here: https://github.com/AntonioPrgomet/matematik_foer_yh\n",
    "\n",
    "# If you find the exercises below very hard, do not worry. Try your best, that will be enough. "
   ]
  },
  {
   "cell_type": "markdown",
   "id": "ab5933d5",
   "metadata": {},
   "source": [
    "### Broadcasting\n",
    "**Read the following link about broadcasting: https://numpy.org/doc/stable/user/basics.broadcasting.html#basics-broadcasting**"
   ]
  },
  {
   "cell_type": "markdown",
   "id": "039805ba",
   "metadata": {},
   "source": [
    "# Remark on Broadcasting when doing Linear Algebra calculations in Python. "
   ]
  },
  {
   "cell_type": "markdown",
   "id": "c4bcc147",
   "metadata": {},
   "source": [
    "### From the mathematical rules of matrix addition, the operation below (m1 + m2) does not make sense. The reason is that matrix addition requires two matrices of the same size. In Python however, it works due to broadcasting rules in NumPy. So you must be careful when doing Linear Algebra calculations in Python since they do not follow the \"mathematical rules\". This can however easily be handled by doing some simple programming, for example validating that two matrices have the same shape is easy if you for instance want to add two matrices. "
   ]
  },
  {
   "cell_type": "code",
   "execution_count": 191,
   "id": "1fd46778",
   "metadata": {},
   "outputs": [
    {
     "name": "stdout",
     "output_type": "stream",
     "text": [
      "[[2 3]\n",
      " [4 5]]\n"
     ]
    }
   ],
   "source": [
    "m1 = np.array([[1, 2], [3, 4]])\n",
    "m2 = np.array([1, 1])\n",
    "print(m1 + m2)"
   ]
  },
  {
   "cell_type": "markdown",
   "id": "047d6576",
   "metadata": {},
   "source": [
    "### The example below would also not be allowed if following the \"mathematical rules\" in Linear Algebra. But it works due to broadcasting in NumPy. "
   ]
  },
  {
   "cell_type": "code",
   "execution_count": 193,
   "id": "5e6ef2e4",
   "metadata": {},
   "outputs": [
    {
     "name": "stdout",
     "output_type": "stream",
     "text": [
      "[2 3 4]\n"
     ]
    }
   ],
   "source": [
    "v1 = np.array([1, 2, 3])\n",
    "print(v1 + 1)"
   ]
  },
  {
   "cell_type": "code",
   "execution_count": 195,
   "id": "e2cbae26",
   "metadata": {},
   "outputs": [
    {
     "name": "stdout",
     "output_type": "stream",
     "text": [
      "[[1 2]\n",
      " [3 4]]\n",
      "[2 2]\n"
     ]
    }
   ],
   "source": [
    "A = np.arange(1, 5).reshape(2,2)\n",
    "print(A)\n",
    "\n",
    "b = np.array([2, 2])\n",
    "print(b)"
   ]
  },
  {
   "cell_type": "markdown",
   "id": "722fd5cd",
   "metadata": {},
   "source": [
    "# Vector- and matrix algebra Exercises"
   ]
  },
  {
   "cell_type": "markdown",
   "id": "b63a3081-d976-4d9f-bfd0-a63917e79f7d",
   "metadata": {},
   "source": [
    "**Now you are going to create a function that can be reused every time you add or multiply matrices. The function is created so that we do the addition and multiplication according to the rules of vector- and matrix algebra.**\n",
    "\n",
    "**Create a function \"add_mult_matrices\" that takes two matrices as input arguments (validate that the input are of the type numpy.ndarray by using the isinstance function), a third argument that is either 'add' or 'multiply' that specifies if you want to add or multiply the matrices (validate that the third argument is either 'add' or 'multiply'). When doing matrix addition, validate that the matrices have the same size. When doing matrix multiplication, validate that the sizes conform (i.e. number of columns in the first matrix is equal to the number of rows in the second matrix).**"
   ]
  },
  {
   "cell_type": "code",
   "execution_count": 70,
   "id": "3506f977-ac0a-473f-85bc-eec9f35dc498",
   "metadata": {},
   "outputs": [
    {
     "name": "stdout",
     "output_type": "stream",
     "text": [
      "[[ 23  12]\n",
      " [ 46 102]]\n",
      "\n",
      "[[  18  879]\n",
      " [  24 1212]]\n"
     ]
    }
   ],
   "source": [
    "import numpy as np\n",
    "\n",
    "def add_mult_matrices(a, b, c):\n",
    "    \n",
    "    # Check if a and b are NumPy arrays \n",
    "    if not isinstance(a, np.ndarray) or not isinstance(b, np.ndarray):\n",
    "        raise ValueError(\"Warning !! You have to insert two arrays!!!\")\n",
    "        \n",
    "    # Check if addition is possible \n",
    "    if c == 'add':\n",
    "        if a.shape == b.shape:\n",
    "            return a + b\n",
    "        else:\n",
    "            raise ValueError(\"Shapes of matrix 'a' and 'b' do not match for addition.\")\n",
    "            \n",
    "    # Check if multiplication is possible \n",
    "    elif c == 'multiply':\n",
    "        if a.shape[1] == b.shape[0]:\n",
    "            return np.dot(a, b)\n",
    "        else:\n",
    "            raise ValueError(\"Number of columns in matrix 'a' must equal the number of rows in matrix 'b' for multiplication.\")\n",
    "    \n",
    "    else:\n",
    "        raise ValueError(\"You have to write 'add' or 'multiply'.\")\n",
    "\n",
    "# Example usage\n",
    "A = np.array([[23, 9], [44, 12]])\n",
    "B = np.array([[0, 3], [2, 90]])\n",
    "result_add = add_mult_matrices(A, B, 'add')\n",
    "print(result_add)\n",
    "print()\n",
    "result_multiply = add_mult_matrices(A, B, 'multiply')\n",
    "print(result_multiply)\n",
    "\n",
    "    "
   ]
  },
  {
   "cell_type": "code",
   "execution_count": null,
   "id": "8abddf58-a8d6-400b-ba3a-bb60721d1c27",
   "metadata": {},
   "outputs": [],
   "source": []
  },
  {
   "cell_type": "code",
   "execution_count": 161,
   "id": "c8a93bbf-f6d1-4738-ae5b-2217f8a355d0",
   "metadata": {},
   "outputs": [
    {
     "name": "stdout",
     "output_type": "stream",
     "text": [
      "[[ 0  1  2  3]\n",
      " [ 4  5  6  7]\n",
      " [ 8  9 10 11]\n",
      " [12 13 14 15]\n",
      " [16 17 18 19]]\n",
      "\n",
      "[[ 0  1  2  3  4  5  6  7  8  9]\n",
      " [10 11 12 13 14 15 16 17 18 19]\n",
      " [20 21 22 23 24 25 26 27 28 29]\n",
      " [30 31 32 33 34 35 36 37 38 39]]\n",
      "\n"
     ]
    },
    {
     "data": {
      "text/plain": [
       "array([[ 140,  146,  152,  158,  164,  170,  176,  182,  188,  194],\n",
       "       [ 380,  402,  424,  446,  468,  490,  512,  534,  556,  578],\n",
       "       [ 620,  658,  696,  734,  772,  810,  848,  886,  924,  962],\n",
       "       [ 860,  914,  968, 1022, 1076, 1130, 1184, 1238, 1292, 1346],\n",
       "       [1100, 1170, 1240, 1310, 1380, 1450, 1520, 1590, 1660, 1730]])"
      ]
     },
     "execution_count": 161,
     "metadata": {},
     "output_type": "execute_result"
    }
   ],
   "source": [
    "a = np.arange(20).reshape(5, 4)\n",
    "b= np.arange(40).reshape(4, 10)\n",
    "print(a)\n",
    "print()\n",
    "print(b)\n",
    "print()\n",
    "add_mult_matrices(a,b,'multiply')"
   ]
  },
  {
   "cell_type": "code",
   "execution_count": null,
   "id": "fa7a811a-4736-4cdf-bcdf-957d2c849303",
   "metadata": {},
   "outputs": [],
   "source": []
  },
  {
   "cell_type": "markdown",
   "id": "8dad82d0-2359-4dff-8f5b-a57d3e34103c",
   "metadata": {},
   "source": [
    "### Solve all the exercises in chapter 10.1 in the book \"Matematik för yrkeshögskolan\". "
   ]
  },
  {
   "cell_type": "code",
   "execution_count": 100,
   "id": "89df88af-3668-4d98-a0a4-e6d92eea0f89",
   "metadata": {},
   "outputs": [
    {
     "name": "stdout",
     "output_type": "stream",
     "text": [
      "\n",
      " a) Vilken dimension har vektorn x?\n",
      "1\n",
      "\n",
      "b) Ber¨akna 5x.\n",
      "[20 15]\n",
      "\n",
      "c) Ber¨akna 3x.\n",
      "[12  9]\n",
      "\n",
      "d) Ber¨akna 5x + 3x.\n",
      "[32 24]\n",
      "\n",
      "e) Ber¨akna 8x.\n",
      "[32 24]\n",
      "\n",
      "f) Ber¨akna 4x − x.\n",
      "[12  9]\n",
      "\n",
      "g) Ber¨akna x⊤, vilken blir den nya dimensionen efter att transponeringen utf¨orts?\n",
      "[4 3]\n",
      "\n",
      "1\n",
      "\n",
      "h) ¨Ar x + x⊤ definierat?\n",
      "True\n",
      "\n",
      "i) Ber¨akna ∥x∥.\n",
      "5.0\n",
      "\n",
      "Uppgift 10.1.2. Definiera vektorn v enligt nedan.\n",
      "a) Vilken dimension har vektorn v?\n",
      "2\n",
      "\n",
      "b) Ber¨akna 2v.\n",
      "[[ 6]\n",
      " [14]\n",
      " [ 0]\n",
      " [22]]\n",
      "\n",
      "c) Ber¨akna 5v + 2v.\n",
      "[[21]\n",
      " [49]\n",
      " [ 0]\n",
      " [77]]\n",
      "d) Ber¨akna 4v − 2v.\n",
      "\n",
      "[[ 6]\n",
      " [14]\n",
      " [ 0]\n",
      " [22]]\n",
      "e) Ber¨akna v⊤, vilken blir den nya dimensionen efter att transponeringen utf¨orts?\n",
      "[[ 3  7  0 11]]\n",
      "\n",
      "2\n",
      "\n",
      "f) Ber¨akna ∥v∥.\n",
      "13.379088160259652\n",
      "\n",
      "Uppgift 10.1.3. Definiera vektorerna v1 = (4, 3, 1, 5) och v2 = (2, 3, 1, 1).\n",
      "a) Ber¨akna ∥v1∥.\n",
      "7.14142842854285\n",
      "\n",
      "b) Ber¨akna ∥v1 − v2∥.\n",
      "3.2684450823354334\n"
     ]
    }
   ],
   "source": [
    "print(' Uppgift 10.1.1. Definiera vektorn x enligt nedan.')\n",
    "import numpy as np\n",
    "\n",
    "\n",
    "\n",
    "\n",
    "x = (4, 3)\n",
    "\n",
    "x = np.array([4, 3])\n",
    "print()\n",
    "\n",
    "print(' a) Vilken dimension har vektorn x?')\n",
    "\n",
    "print(x.ndim)\n",
    "print()\n",
    "print('b) Ber¨akna 5x.')\n",
    "\n",
    "A=np.dot(x,5)\n",
    "print(A)\n",
    "print()\n",
    "print('c) Ber¨akna 3x.')\n",
    "\n",
    "B=3*x\n",
    "print(B)\n",
    "print()\n",
    "print('d) Ber¨akna 5x + 3x.')\n",
    "print(A + B)\n",
    "print()\n",
    "print('e) Ber¨akna 8x.')\n",
    "\n",
    "C=x*8\n",
    "print(C)\n",
    "print()\n",
    "print('f) Ber¨akna 4x − x.')\n",
    "\n",
    "D=x*4\n",
    "print(D - x)\n",
    "print()\n",
    "print('g) Ber¨akna x⊤, vilken blir den nya dimensionen efter att transponeringen utf¨orts?')\n",
    "\n",
    "x_transpose = x.T\n",
    "print(x_transpose)\n",
    "print() \n",
    "print(x_transpose.ndim)\n",
    "print()       \n",
    "print('h) ¨Ar x + x⊤ definierat?')\n",
    "\n",
    "print( x.shape == x_transpose.shape)\n",
    "print()\n",
    "print('i) Ber¨akna ∥x∥.')\n",
    "\n",
    "print(np.linalg.norm(x))\n",
    "print()\n",
    "print('Uppgift 10.1.2. Definiera vektorn v enligt nedan.')\n",
    "v =np.array ( [[3] , [7] ,[0] ,[11]])\n",
    " \n",
    "print('a) Vilken dimension har vektorn v?')\n",
    "\n",
    "print(v.ndim)\n",
    "print()\n",
    "print('b) Ber¨akna 2v.')\n",
    "\n",
    "print(v*2)\n",
    "print()    \n",
    "print('c) Ber¨akna 5v + 2v.')\n",
    "\n",
    "print(5*v + 2*v)\n",
    "\n",
    "print('d) Ber¨akna 4v − 2v.')\n",
    "print()\n",
    "print(4*v - 2*v)\n",
    "print('e) Ber¨akna v⊤, vilken blir den nya dimensionen efter att transponeringen utf¨orts?')\n",
    "\n",
    "v_transpose = v.T\n",
    "print(v_transpose)\n",
    "print()\n",
    "print(v_transpose.ndim)\n",
    "print()\n",
    "print('f) Ber¨akna ∥v∥.')\n",
    "\n",
    "print(np.linalg.norm(v))\n",
    "print()\n",
    "print('Uppgift 10.1.3. Definiera vektorerna v1 = (4, 3, 1, 5) och v2 = (2, 3, 1, 1).')\n",
    "v1 = np.array([4,3,1,5])\n",
    "v2 = np.array([2,3,1,1])\n",
    "\n",
    "print('a) Ber¨akna ∥v1∥.')\n",
    "v1_norm = np.linalg.norm(v1)\n",
    "print(v1_norm)\n",
    "print()\n",
    "print('b) Ber¨akna ∥v1 − v2∥.')\n",
    "v2_norm = np.linalg.norm(v2)\n",
    "print((v1_norm) - (v2_norm))\n"
   ]
  },
  {
   "cell_type": "markdown",
   "id": "75c98984-1f88-4df1-b850-d2466de444a5",
   "metadata": {},
   "source": [
    "### Solve all the exercises, except 10.2.4, in chapter 10.2 in the book \"Matematik för yrkeshögskolan\". "
   ]
  },
  {
   "cell_type": "code",
   "execution_count": 165,
   "id": "65371610-16e1-48b2-b7fb-65e49002608a",
   "metadata": {},
   "outputs": [
    {
     "name": "stdout",
     "output_type": "stream",
     "text": [
      " Ovningsuppgifter\n",
      "Uppgift 10.2.1. Definiera matriserna:\n",
      "A = ([[2, 1, 1] , [1, -1, 1]])\n",
      "B = ([[4, -2, 1] , [2, -4, -2]])\n",
      "C = ([[1, 2] , [2, 1]])\n",
      "D = ([[3, 4] , [4, 3]])\n",
      "E = ([[1],[2]]) \n",
      "I = ([[1, 0], [0, 1]])\n",
      "Om det ¨ar definierat, utf¨or f¨oljande ber¨akningar:\n",
      "a) 2A\n",
      "[[ 4  2  2]\n",
      " [ 2 -2  2]]\n",
      "b) B − 2A\n",
      "[[ 0 -4 -1]\n",
      " [ 0 -2 -4]]\n",
      "c) 3C − 2E\n",
      "[[ 1  4]\n",
      " [ 2 -1]]\n",
      "d) 2D − 3C\n",
      "[[3 2]\n",
      " [2 3]]\n",
      "e) D⊤ + 2D\n",
      "[[ 9 12]\n",
      " [12  9]]\n",
      "f) 2C⊤ − 2D⊤\n",
      "[[-4 -4]\n",
      " [-4 -4]]\n",
      "g) A⊤ − B\n",
      " not definerat\n",
      "h) AC\n",
      "not definerat\n",
      "i) CD\n",
      "[[3 8]\n",
      " [8 3]]\n",
      "j) CB\n",
      " not definerat\n",
      "k) CI\n",
      "[[1 0]\n",
      " [0 1]]\n",
      "l) AB⊤\n",
      "[[ 8  2]\n",
      " [-2  4]\n",
      " [ 1 -2]]\n",
      "Uppgift 10.2.2. Definiera matrisen\n",
      "Ber¨akna AAT .\n",
      "[[ 4 25]\n",
      " [ 9 16]\n",
      " [16  1]]\n",
      "Uppgift 10.2.3. Definiera matriserna\n",
      "Verifiera att AB = AC men att B != C. Vad vi vill demon\u0002strera med detta exemplet ¨ar att vi har definierat ett nytt,matematiskt objekt (matriser i detta fallet) och att de ”van\u0002liga reglerna” f¨or aritmetik som vi l¨art oss fr˚an grundskolan,inte n¨odv¨andigtvis g¨aller ¨aven h¨ar\n",
      "Matrix A:\n",
      "[[1 2]\n",
      " [2 4]]\n",
      "\n",
      "Matrix B:\n",
      "[[2 1]\n",
      " [1 3]]\n",
      "\n",
      "Matrix C:\n",
      "[[4 3]\n",
      " [0 2]]\n",
      "\n",
      "AB (A * B):\n",
      "[[ 4  7]\n",
      " [ 8 14]]\n",
      "\n",
      "AC (A * C):\n",
      "[[ 4  7]\n",
      " [ 8 14]]\n",
      "\n",
      "Is AB equal to AC? True\n",
      "Is B equal to C? False\n"
     ]
    }
   ],
   "source": [
    "print(' Ovningsuppgifter')\n",
    "\n",
    "print('Uppgift 10.2.1. Definiera matriserna:')\n",
    "print('A = ([[2, 1, 1] , [1, -1, 1]])')\n",
    "print('B = ([[4, -2, 1] , [2, -4, -2]])')\n",
    "print('C = ([[1, 2] , [2, 1]])')    \n",
    "print('D = ([[3, 4] , [4, 3]])')\n",
    "print('E = ([[1],[2]]) ')\n",
    "print('I = ([[1, 0], [0, 1]])')\n",
    "           \n",
    "A = np.array([[2, 1, 1] , [1, -1, 1]])\n",
    "B = np.array([[4, -2, 1] , [2, -4, -2]])\n",
    "C = np.array([[1, 2] , [2, 1]])      \n",
    "D = np.array([[3, 4] , [4, 3]])\n",
    "E = np.array([[1],[2]])   \n",
    "I = np.array([[1, 0], [0, 1]])\n",
    "\n",
    "print('Om det ¨ar definierat, utf¨or f¨oljande ber¨akningar:')\n",
    "print('a) 2A')\n",
    "print(A * 2)\n",
    "          \n",
    "print('b) B − 2A')\n",
    "print(B - (2 * A))\n",
    "print('c) 3C − 2E')\n",
    "print((3 * C) - (2 * E))\n",
    "\n",
    "print(('d) 2D − 3C'))\n",
    "print((2 * D) - (3 * C))\n",
    "\n",
    "\n",
    "print('e) D⊤ + 2D')\n",
    "D_transpose = D.T\n",
    "print(D_transpose + (2 * D))\n",
    "\n",
    "\n",
    "print('f) 2C⊤ − 2D⊤')\n",
    "C_transpose = C.T\n",
    "print((2 * C_transpose) - (2 * D_transpose))\n",
    "\n",
    "print('g) A⊤ − B')\n",
    "A_transpose = A.T\n",
    "if (A_transpose.shape == B.shape):\n",
    "    print(A_transpose - B)\n",
    "else:\n",
    "    print(' not definerat')\n",
    "\n",
    "print('h) AC')\n",
    "if A.shape[1] == B.shape[0]:\n",
    "    print(A * C)\n",
    "else:\n",
    "    print('not definerat')\n",
    "print('i) CD')\n",
    "print(C * D)\n",
    "print('j) CB')\n",
    "if B.shape[1] == C.shape[0]:\n",
    "    print(C * B)\n",
    "else:\n",
    "    print(' not definerat')\n",
    "print('k) CI')\n",
    "print(C * I)\n",
    "print('l) AB⊤')\n",
    "AB = A * B\n",
    "AB_transpose = AB.T\n",
    "print(AB_transpose)\n",
    "\n",
    "\n",
    "print('Uppgift 10.2.2. Definiera matrisen')\n",
    "A = np.array([[2, 3, 4], [5, 4, 1]])\n",
    "\n",
    "print('Ber¨akna AAT .')\n",
    "AA = A * A\n",
    "print( AA.T)\n",
    "        \n",
    "print('Uppgift 10.2.3. Definiera matriserna')\n",
    "import numpy as np\n",
    "\n",
    "# Define the matrices A, B, and C\n",
    "A = np.array([[1, 2], [2, 4]])\n",
    "B = np.array([[2, 1], [1, 3]])\n",
    "C = np.array([[4, 3], [0, 2]])\n",
    "\n",
    "print('Verifiera att AB = AC men att B != C. Vad vi vill demon\u0002strera med detta exemplet ¨ar att vi har definierat ett nytt,matematiskt objekt (matriser i detta fallet) och att de ”van\u0002liga reglerna” f¨or aritmetik som vi l¨art oss fr˚an grundskolan,inte n¨odv¨andigtvis g¨aller ¨aven h¨ar')\n",
    "\n",
    "\n",
    "\n",
    "# Perform the matrix multiplications AB and AC\n",
    "AB = np.dot(A, B)\n",
    "AC = np.dot(A, C)\n",
    "\n",
    "# Print the results\n",
    "print(\"Matrix A:\")\n",
    "print(A)\n",
    "print(\"\\nMatrix B:\")\n",
    "print(B)\n",
    "print(\"\\nMatrix C:\")\n",
    "print(C)\n",
    "\n",
    "print(\"\\nAB (A * B):\")\n",
    "print(AB)\n",
    "\n",
    "print(\"\\nAC (A * C):\")\n",
    "print(AC)\n",
    "\n",
    "# Check if AB == AC and if B == C\n",
    "print(\"\\nIs AB equal to AC?\", np.array_equal(AB, AC))\n",
    "print(\"Is B equal to C?\", np.array_equal(B, C))\n"
   ]
  },
  {
   "cell_type": "markdown",
   "id": "6a4a524f",
   "metadata": {},
   "source": [
    "### Copies and Views\n",
    "Read the following link: https://numpy.org/doc/stable/user/basics.copies.html"
   ]
  },
  {
   "cell_type": "markdown",
   "id": "6cbbeaf7",
   "metadata": {},
   "source": [
    "**Basic indexing creates a view, How can you check if v1 and v2 is a view or copy? If you change the last element in v2 to 123, will the last element in v1 be changed? Why?**"
   ]
  },
  {
   "cell_type": "code",
   "execution_count": 381,
   "id": "5b9ef4df",
   "metadata": {},
   "outputs": [
    {
     "name": "stdout",
     "output_type": "stream",
     "text": [
      "[0 1 2 3]\n",
      "[2 3]\n"
     ]
    }
   ],
   "source": [
    "v1 = np.arange(4)\n",
    "v2 = v1[-2:]\n",
    "print(v1)\n",
    "print(v2)"
   ]
  },
  {
   "cell_type": "code",
   "execution_count": 383,
   "id": "d2440489",
   "metadata": {},
   "outputs": [
    {
     "name": "stdout",
     "output_type": "stream",
     "text": [
      "None\n",
      "[0 1 2 3]\n"
     ]
    }
   ],
   "source": [
    "# The base attribute of a view returns the original array while it returns None for a copy.\n",
    "print(v1.base)\n",
    "print(v2.base)"
   ]
  },
  {
   "cell_type": "code",
   "execution_count": 385,
   "id": "c8752807",
   "metadata": {},
   "outputs": [
    {
     "name": "stdout",
     "output_type": "stream",
     "text": [
      "[  0   1   2 123]\n",
      "[  2 123]\n"
     ]
    }
   ],
   "source": [
    "# The last element in v1 will be changed aswell since v2 is a view, meaning they share the same data buffer.\n",
    "v2[-1] = 123\n",
    "print(v1)\n",
    "print(v2)"
   ]
  },
  {
   "cell_type": "code",
   "execution_count": 12,
   "id": "3dd68221",
   "metadata": {},
   "outputs": [],
   "source": []
  },
  {
   "cell_type": "code",
   "execution_count": null,
   "id": "0a4e069c-7b16-4d50-ba5f-d77ecbd17fb3",
   "metadata": {},
   "outputs": [],
   "source": []
  },
  {
   "cell_type": "code",
   "execution_count": null,
   "id": "ecd325e3-c59f-4554-a6e1-d9cceee47c86",
   "metadata": {},
   "outputs": [],
   "source": []
  }
 ],
 "metadata": {
  "kernelspec": {
   "display_name": "Python 3 (ipykernel)",
   "language": "python",
   "name": "python3"
  },
  "language_info": {
   "codemirror_mode": {
    "name": "ipython",
    "version": 3
   },
   "file_extension": ".py",
   "mimetype": "text/x-python",
   "name": "python",
   "nbconvert_exporter": "python",
   "pygments_lexer": "ipython3",
   "version": "3.12.7"
  }
 },
 "nbformat": 4,
 "nbformat_minor": 5
}
