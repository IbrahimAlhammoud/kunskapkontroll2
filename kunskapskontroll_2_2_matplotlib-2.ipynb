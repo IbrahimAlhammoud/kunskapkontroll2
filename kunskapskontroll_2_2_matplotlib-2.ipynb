{
 "cells": [
  {
   "cell_type": "markdown",
   "id": "eb49a753",
   "metadata": {},
   "source": [
    "# Matplotlib\n",
    "Read the tutorials: https://matplotlib.org/stable/users/explain/quick_start.html and https://matplotlib.org/stable/tutorials/pyplot.html before solving the exercises below. The \"Pyplot Tutorial\" you do not read in detail but it is good to know about since the fact that there are two approaches to plotting can be confusing if you are not aware of both of the approaches."
   ]
  },
  {
   "cell_type": "code",
   "execution_count": null,
   "id": "9b1ffb1b",
   "metadata": {},
   "outputs": [],
   "source": [
    "import numpy as np\n",
    "import matplotlib.pyplot as plt"
   ]
  },
  {
   "cell_type": "markdown",
   "id": "35e4f6cd",
   "metadata": {},
   "source": [
    "### Plotting in Matplotlib can be done in either of two ways, which ones? Which way is the recommended approach?"
   ]
  },
  {
   "cell_type": "raw",
   "id": "df050d37-ac86-4583-a2d0-7ef0c82255a0",
   "metadata": {},
   "source": [
    "state-based interface and object-orionted interface, object oriented is the recommended "
   ]
  },
  {
   "cell_type": "markdown",
   "id": "00d119a1",
   "metadata": {},
   "source": [
    "### Explain shortly what a figure, axes, axis and an artist is in Matplotlib."
   ]
  },
  {
   "cell_type": "raw",
   "id": "e1850ae7-9d75-403f-bfa7-728a60e806e3",
   "metadata": {},
   "source": [
    "Figure: The whole window.\n",
    "Axes: The plotting area within the figure.\n",
    "Axis: The individual x or y axis on an axes.\n",
    "Artist: Any drawable object in Matplotlib, including plots, lines, labels, and other graphic elements.\n"
   ]
  },
  {
   "cell_type": "markdown",
   "id": "986b324c",
   "metadata": {},
   "source": [
    "### When plotting in Matplotlib, what is the expected input data type?"
   ]
  },
  {
   "cell_type": "raw",
   "id": "786579f7-887d-4b13-a00f-d6ebb43d7ea4",
   "metadata": {},
   "source": [
    "array"
   ]
  },
  {
   "cell_type": "markdown",
   "id": "8ff546a1",
   "metadata": {},
   "source": [
    "### Create a plot of the function y = x^2 [from -4 to 4, hint use the np.linspace function] both in the object-oriented approach and the pyplot approach. Your plot should have a title and axis-labels."
   ]
  },
  {
   "cell_type": "code",
   "execution_count": null,
   "id": "738b8a75",
   "metadata": {},
   "outputs": [],
   "source": [
    "\n",
    "\n",
    "# Data\n",
    "x = np.linspace(-4, 4, 400)\n",
    "y = x**2\n",
    "\n",
    "# Object-oriented approach\n",
    "fig, ax = plt.subplots()  # Create a figure and an axis\n",
    "\n",
    "# Plot the function\n",
    "ax.plot(x, y, label='$y = x^2$', color='b')\n",
    "\n",
    "# Set title and labels\n",
    "ax.set_title('Plot of $y = x^2$')\n",
    "ax.set_xlabel('x')\n",
    "ax.set_ylabel('y')\n",
    "\n",
    "# Show the plot\n",
    "plt.show()\n",
    "\n",
    "\n",
    "\n",
    "# Pyplot approach\n",
    "plt.plot(x, y, label='$y = x^2$', color='r')\n",
    "\n",
    "# Set title and labels\n",
    "plt.title('Plot of $y = x^2$')\n",
    "plt.xlabel('x')\n",
    "plt.ylabel('y')\n",
    "\n",
    "# Show the plot\n",
    "plt.show()\n"
   ]
  },
  {
   "cell_type": "markdown",
   "id": "f6313412",
   "metadata": {},
   "source": [
    "### Create a figure containing 2  subplots where the first is a scatter plot and the second is a bar plot. You have the data below. "
   ]
  },
  {
   "cell_type": "code",
   "execution_count": null,
   "id": "81b6723d",
   "metadata": {},
   "outputs": [],
   "source": [
    "# Data for scatter plot\n",
    "np.random.seed(15)\n",
    "random_data_x = np.random.randn(1000)\n",
    "random_data_y = np.random.randn(1000)\n",
    "x = np.linspace(-2, 2, 100)\n",
    "y = x**2\n",
    "\n",
    "# Data for bar plot\n",
    "fruit_data = {'grapes': 22, 'apple': 8, 'orange': 15, 'lemon': 20, 'lime': 25}\n",
    "names = list(fruit_data.keys())\n",
    "\n",
    "# Create a figure with two subplots\n",
    "fig, axs = plt.subplots(1, 2, figsize=(14, 6))  # 1 row, 2 columns\n",
    "\n",
    "# Scatter Plot\n",
    "axs[0].scatter(random_data_x, random_data_y, alpha=0.5, color='blue')\n",
    "axs[0].plot(x, y, color='red', label='$y = x^2$')  # Adding the x^2 curve\n",
    "axs[0].set_title('Scatter Plot with Line $y = x^2$')\n",
    "axs[0].set_xlabel('Random X')\n",
    "axs[0].set_ylabel('Random Y')\n",
    "axs[0].legend()\n",
    "\n",
    "# Bar Plot\n",
    "axs[1].bar(names, values, color='green')\n",
    "axs[1].set_title('Fruit Quantities')\n",
    "axs[1].set_xlabel('Fruit')\n",
    "axs[1].set_ylabel('Quantity')\n",
    "\n",
    "# Adjust layout to prevent overlap\n",
    "plt.tight_layout()\n",
    "\n",
    "# Show the plots\n",
    "plt.show()\n",
    "values = list(fruit_data.values())"
   ]
  },
  {
   "cell_type": "code",
   "execution_count": null,
   "id": "b84f15d0",
   "metadata": {},
   "outputs": [],
   "source": []
  }
 ],
 "metadata": {
  "kernelspec": {
   "display_name": "Python 3 (ipykernel)",
   "language": "python",
   "name": "python3"
  },
  "language_info": {
   "codemirror_mode": {
    "name": "ipython",
    "version": 3
   },
   "file_extension": ".py",
   "mimetype": "text/x-python",
   "name": "python",
   "nbconvert_exporter": "python",
   "pygments_lexer": "ipython3",
   "version": "3.12.7"
  }
 },
 "nbformat": 4,
 "nbformat_minor": 5
}
